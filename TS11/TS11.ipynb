{
 "cells": [
  {
   "cell_type": "markdown",
   "id": "8a74eef4",
   "metadata": {},
   "source": [
    "\n",
    "# Trabajo semanal N°11: Síntesis de funciones de transferencia descargadas\n",
    "\n",
    "### Autor: Gonzalo Goumaz"
   ]
  },
  {
   "cell_type": "markdown",
   "id": "3bbb68db",
   "metadata": {},
   "source": [
    "\n",
    "## Ejercicio 1\n",
    "\n",
    "### Consigna\n",
    "\n",
    "Sintetizar un cuadripolo que cumpla con los siguientes parámetros:\n",
    "\n",
    "\\begin{equation}\n",
    "   Y_{11} = \\frac{I1}{V1} \\bigg\\rvert_{V_2=0} = \\frac{3s.(s^2 + 7/3)}{ (s^2 + 2) (s^2 + 5) }\n",
    "\\end{equation}\n",
    "\n",
    "\\begin{equation}\n",
    "   Y_{21} = \\frac{I2}{V1} \\bigg\\rvert_{V_2=0} = \\frac{s.(s^2 + 1)}{ (s^2 + 2) (s^2 + 5) }\n",
    "\\end{equation}\n",
    "\n",
    "1.  Obtener la topología mediante la **síntesis gráfica**, es decir la red sin valores.\n",
    "2.  Calcular el valor de los componentes, es decir la **síntesis analítica**."
   ]
  },
  {
   "cell_type": "markdown",
   "id": "b8063c9c",
   "metadata": {},
   "source": [
    "\n",
    "### Resolución analítica\n",
    "\n",
    "En el siguiente PDF se desarrolla el ejercicio 1 de manera analítica."
   ]
  },
  {
   "cell_type": "code",
   "execution_count": 1,
   "id": "d5205493",
   "metadata": {},
   "outputs": [
    {
     "data": {
      "text/html": [
       "\n",
       "        <iframe\n",
       "            width=\"900\"\n",
       "            height=\"900\"\n",
       "            src=\"./ej1/TS11_ej1.pdf\"\n",
       "            frameborder=\"0\"\n",
       "            allowfullscreen\n",
       "            \n",
       "        ></iframe>\n",
       "        "
      ],
      "text/plain": [
       "<IPython.lib.display.IFrame at 0x7fefae3e94e0>"
      ]
     },
     "execution_count": 1,
     "metadata": {},
     "output_type": "execute_result"
    }
   ],
   "source": [
    "from IPython.display import IFrame\n",
    "IFrame(\"./ej1/TS11_ej1.pdf\", width = 900, height = 900)"
   ]
  },
  {
   "cell_type": "markdown",
   "id": "0222945f",
   "metadata": {},
   "source": [
    "\n",
    "### Verificación en LTspice\n",
    "\n",
    "Se realizó una simulación circuital en LTspice para verificar que el circuito resultante presente los parámetros Y impuestos por la consigna. Para ello, se utiliza el siguiente draft.\n",
    "\n",
    "<figure>\n",
    "<center>\n",
    "<img src=\"ej1/red_ej1_spice.png\">\n",
    "<figcaption> Fig 1.1: Red circuital implementada en LTspice.</figcaption>\n",
    "</figure>"
   ]
  },
  {
   "cell_type": "markdown",
   "id": "4d0b2edf",
   "metadata": {},
   "source": [
    "<figure>\n",
    "<center>\n",
    "<img src=\"ej1/Y11_spice.png\">\n",
    "<figcaption> Fig 1.2: Parámetro Y11 simulado en LTspice.</figcaption>\n",
    "</figure>\n",
    "    \n",
    "<figure>\n",
    "<center>\n",
    "<img src=\"ej1/Y21_spice.png\">\n",
    "<figcaption> Fig 1.3 Parámetro Y21 simulado en LTspice.</figcaption>\n",
    "</figure>"
   ]
  },
  {
   "cell_type": "markdown",
   "id": "123c1c40",
   "metadata": {},
   "source": [
    "Se observa que para ambos parámetros, el comportamiento es el correcto según las expresiones dadas."
   ]
  },
  {
   "cell_type": "markdown",
   "id": "ef6e316f",
   "metadata": {},
   "source": [
    "\n",
    "### Verificación en Python\n",
    "\n"
   ]
  },
  {
   "cell_type": "code",
   "execution_count": 2,
   "id": "a8fd765f",
   "metadata": {},
   "outputs": [],
   "source": [
    "# ---- Modulos y funciones necesarias ---- #\n",
    "\n",
    "import sympy as sp\n",
    "from pytc2.dibujar import (display, dibujar_puerto_entrada, dibujar_puerto_salida, dibujar_funcion_exc_abajo, \n",
    "                           dibujar_elemento_serie, dibujar_elemento_derivacion, dibujar_tanque_RC_derivacion,\n",
    "                           dibujar_espacio_derivacion, Capacitor, Resistor, ResistorIEC) \n",
    "from pytc2.general import print_latex, a_equal_b_latex_s\n",
    "import pytc2.cuadripolos as tc2\n",
    "\n",
    "\n",
    "# ---------------------------------------- #\n",
    "\n",
    "s = sp.symbols('s', complex=True) # Defino la variable compleja S\n",
    "\n",
    "# ---------------------------------------- #"
   ]
  },
  {
   "cell_type": "markdown",
   "id": "81196bbe",
   "metadata": {},
   "source": [
    "\n",
    "## Ejercicio 2\n",
    "\n",
    "### Consigna\n",
    "\n",
    "Dada la siguiente transferencia:\n",
    "\n",
    "\\begin{equation}\n",
    "   T(s) = \\frac{V2}{V1} \\bigg\\rvert_{I_2=0} = \\frac{k.(s + 1)}{ (s + 2) (s + 4) }\n",
    "\\end{equation}\n",
    "\n",
    "1.  Obtener la topología circuital que respeta la transferencia solicitada, utilizando parámetros Z e Y.\n",
    "2. Calcular el valor de los componentes y el parámetro k."
   ]
  },
  {
   "cell_type": "markdown",
   "id": "82f553a2",
   "metadata": {},
   "source": [
    "\n",
    "### Resolución analítica con parámetros de impedancia\n",
    "\n",
    "En el PDF a continuación se desarrolla la síntesis utilizando los parámetros Z.\n"
   ]
  },
  {
   "cell_type": "code",
   "execution_count": 3,
   "id": "d37e19c1",
   "metadata": {
    "scrolled": true
   },
   "outputs": [
    {
     "data": {
      "text/html": [
       "\n",
       "        <iframe\n",
       "            width=\"900\"\n",
       "            height=\"900\"\n",
       "            src=\"./ej2/TS11_ej2.pdf\"\n",
       "            frameborder=\"0\"\n",
       "            allowfullscreen\n",
       "            \n",
       "        ></iframe>\n",
       "        "
      ],
      "text/plain": [
       "<IPython.lib.display.IFrame at 0x7fefae3e8490>"
      ]
     },
     "execution_count": 3,
     "metadata": {},
     "output_type": "execute_result"
    }
   ],
   "source": [
    "IFrame(\"./ej2/TS11_ej2.pdf\", width = 900, height = 900)"
   ]
  },
  {
   "cell_type": "markdown",
   "id": "91dfb97e",
   "metadata": {},
   "source": [
    "\n",
    "### Verificación de la transferencia en Python\n",
    "\n",
    "El siguiente código de Python tiene por objetivo verificar que la función de transferencia del circuito obtenido es coincidente con la impuesta por la consigna."
   ]
  },
  {
   "cell_type": "code",
   "execution_count": 5,
   "id": "7e03b4c8",
   "metadata": {},
   "outputs": [
    {
     "name": "stdout",
     "output_type": "stream",
     "text": [
      "La transferencia del circuito es\n"
     ]
    },
    {
     "data": {
      "text/latex": [
       "$\\displaystyle T(S)=\\frac{s + 1}{2 \\left(s + 2\\right) \\left(s + 4\\right)}$"
      ],
      "text/plain": [
       "<IPython.core.display.Math object>"
      ]
     },
     "metadata": {},
     "output_type": "display_data"
    }
   ],
   "source": [
    "# ------------- Ejercicio 2 -------------- #\n",
    "\n",
    "R1 = sp.nsimplify(1)\n",
    "R2 = sp.nsimplify(1/4)\n",
    "C1 = sp.nsimplify(2/5)\n",
    "C2 = sp.nsimplify(4)\n",
    "C3 = sp.nsimplify(2)\n",
    "\n",
    "# Armo la MAI\n",
    "\n",
    "#                              #\n",
    "# 0---R1---C1---------------2  #\n",
    "#               -      -       #\n",
    "#               C2     -       #\n",
    "#               -      C3      #\n",
    "#               R2     -       #\n",
    "#               -      -       #\n",
    "# 1-------------------------1  #\n",
    "\n",
    "Ymai = sp.Matrix([\n",
    "        [1/(R1 + 1/(s*C1)), 0, -1/(R1 + 1/(s*C1))],\n",
    "        [0, s*C3 + 1/(R2 + 1/(s*C2)), -(s*C3 + 1/(R2 + 1/(s*C2)))],\n",
    "        [-1/(R1 + 1/(s*C1)), -(s*C3 + 1/(R2 + 1/(s*C2))), 1/(R1 + 1/(s*C1)) + s*C3 + 1/(R2 + 1/(s*C2)) ]   \n",
    "    ])\n",
    "\n",
    "Tf = tc2.calc_MAI_vtransf_ij_mn(Ymai, ii=2, jj=1, mm=0, nn=1, verbose=False)\n",
    "\n",
    "print(\"La transferencia del circuito es\")\n",
    "print_latex(a_equal_b_latex_s('T(S)', sp.factor(Tf)))\n",
    "\n",
    "# ---------------------------------------- #"
   ]
  },
  {
   "cell_type": "markdown",
   "id": "bd91c94a",
   "metadata": {},
   "source": [
    "\n",
    "### Verificación de la transferencia en LTspice\n",
    "\n",
    "Se realiza una simulación circuital de la red obtenida para verificar que satisface la transferencia solicitada.\n",
    "\n",
    "<figure>\n",
    "<center>\n",
    "<img src=\"ej2/red_ej2_spice.png\">\n",
    "<figcaption> Fig 2.1: Red obtenida por parametros Z en LTspice.</figcaption>\n",
    "</figure>"
   ]
  },
  {
   "cell_type": "markdown",
   "id": "bc398c5b",
   "metadata": {},
   "source": [
    "<figure>\n",
    "<center>\n",
    "<img src=\"ej2/bode_ej2_spice.png\">\n",
    "<figcaption> Fig 2.2: Función de transferencia simulada en LTspice.</figcaption>\n",
    "</figure>"
   ]
  },
  {
   "cell_type": "markdown",
   "id": "467e3825",
   "metadata": {},
   "source": [
    "Se observa que la transferencia resultante se corresponde con lo solicitado en la consigna."
   ]
  },
  {
   "cell_type": "markdown",
   "id": "6606b83a",
   "metadata": {},
   "source": [
    "### Resolución analítica con parámetros de admitancia\n",
    "\n",
    "Se realiza la síntesis de la transferencia solicitada, pero en este caso, se utilizarán los parámetros admitancia (Y). "
   ]
  },
  {
   "cell_type": "code",
   "execution_count": 13,
   "id": "2184575a",
   "metadata": {},
   "outputs": [
    {
     "data": {
      "text/html": [
       "\n",
       "        <iframe\n",
       "            width=\"900\"\n",
       "            height=\"900\"\n",
       "            src=\"./ej2/TS11_ej2_admitancia.pdf\"\n",
       "            frameborder=\"0\"\n",
       "            allowfullscreen\n",
       "            \n",
       "        ></iframe>\n",
       "        "
      ],
      "text/plain": [
       "<IPython.lib.display.IFrame at 0x7fef64667340>"
      ]
     },
     "execution_count": 13,
     "metadata": {},
     "output_type": "execute_result"
    }
   ],
   "source": [
    "IFrame(\"./ej2/TS11_ej2_admitancia.pdf\", width = 900, height = 900)"
   ]
  },
  {
   "cell_type": "markdown",
   "id": "16c8a6ae",
   "metadata": {},
   "source": [
    "\n",
    "### Verificación de la transferencia en Python\n",
    "\n",
    "Nuevamente, se recurre a python para verificar que la transferencia de la red obtenida se corresponde con la impuesta por la consigna"
   ]
  },
  {
   "cell_type": "code",
   "execution_count": 12,
   "id": "14fe30a4",
   "metadata": {},
   "outputs": [
    {
     "name": "stdout",
     "output_type": "stream",
     "text": [
      "La transferencia del circuito es\n"
     ]
    },
    {
     "data": {
      "text/latex": [
       "$\\displaystyle T(S)=- \\frac{7 \\left(s + 1\\right)}{2 \\left(s + 2\\right) \\left(s + 4\\right)}$"
      ],
      "text/plain": [
       "<IPython.core.display.Math object>"
      ]
     },
     "metadata": {},
     "output_type": "display_data"
    }
   ],
   "source": [
    "# ------------- Ejercicio 2 - Por admitancias -------------- #\n",
    "\n",
    "R1 = sp.nsimplify(2/35)\n",
    "R2 = sp.nsimplify(4/5)\n",
    "R3 = sp.nsimplify(2/3)\n",
    "C1 = sp.nsimplify(5)\n",
    "C2 = sp.nsimplify(5/4)\n",
    "\n",
    "# Armo la MAI\n",
    "\n",
    "#               ---C2---           #\n",
    "#          2    -      -           #\n",
    "# 0---R1---------      ---------3  #\n",
    "#          -    -      -   -       #\n",
    "#          -    ---R2---   -       #\n",
    "#          C1              R3      #\n",
    "#          -               -       #\n",
    "#          -               -       #\n",
    "# 1-----------------------------1  #\n",
    "\n",
    "Ymai = sp.Matrix([\n",
    "        [1/R1, 0, -1/R1, 0],\n",
    "        [0, s*C1 + 1/R3, -s*C1, -1/R3],\n",
    "        [-1/R1, -s*C1, 1/R1 + s*C1 + s*C2 + 1/R2, -(s*C2 + 1/R2)],\n",
    "        [0, -1/R3, -(s*C2 + 1/R2), s*C2 + 1/R2 + 1/R3]   \n",
    "    ])\n",
    "\n",
    "Tf = tc2.calc_MAI_vtransf_ij_mn(Ymai, ii=3, jj=1, mm=0, nn=1, verbose=False)\n",
    "\n",
    "print(\"La transferencia del circuito es\")\n",
    "print_latex(a_equal_b_latex_s('T(S)', sp.factor(Tf)))\n",
    "\n",
    "# --------------------------------------------------------- #"
   ]
  },
  {
   "cell_type": "markdown",
   "id": "1670dd29",
   "metadata": {},
   "source": [
    "\n",
    "### Verificación de la transferencia en LTspice\n",
    "\n",
    "Se realiza una simulación circuital de la red para corroborar que satisface la transferencia de tensionse pedida.\n",
    "\n",
    "<figure>\n",
    "<center>\n",
    "<img src=\"ej2/red_ej2_admitancia_spice.png\">\n",
    "<figcaption> Fig 2.3: Función de transferencia simulada en LTspice.</figcaption>\n",
    "</figure>\n",
    "\n",
    "<figure>\n",
    "<center>\n",
    "<img src=\"ej2/bode_ej2_admitancia_spice.png\">\n",
    "<figcaption> Fig 2.4: Función de transferencia simulada en LTspice.</figcaption>\n",
    "</figure>"
   ]
  },
  {
   "cell_type": "markdown",
   "id": "2cddd0df",
   "metadata": {},
   "source": [
    "Se observa que el comportamiento de la red sintetizada es el esperado."
   ]
  }
 ],
 "metadata": {
  "kernelspec": {
   "display_name": "Python 3 (ipykernel)",
   "language": "python",
   "name": "python3"
  },
  "language_info": {
   "codemirror_mode": {
    "name": "ipython",
    "version": 3
   },
   "file_extension": ".py",
   "mimetype": "text/x-python",
   "name": "python",
   "nbconvert_exporter": "python",
   "pygments_lexer": "ipython3",
   "version": "3.10.9"
  }
 },
 "nbformat": 4,
 "nbformat_minor": 5
}
