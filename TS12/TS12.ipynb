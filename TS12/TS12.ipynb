{
 "cells": [
  {
   "cell_type": "markdown",
   "id": "d39a6a6f",
   "metadata": {},
   "source": [
    "\n",
    "# Trabajo semanal N°12: Síntesis de cuadripolos simplemente cargadas\n",
    "\n",
    "### Autor: Gonzalo Goumaz\n"
   ]
  },
  {
   "cell_type": "markdown",
   "id": "04dd043e",
   "metadata": {},
   "source": [
    "\n",
    "## Ejercicio 1\n",
    "\n",
    "### Consigna\n",
    "\n",
    "Sintetice la siguiente transferencia cargada con componentes RC:\n",
    "\n",
    "<figure>\n",
    "<center>\n",
    "<img src=\"ej1/consigna.png\">\n",
    "<figcaption> Fig 1.1: Sistema a sintetizar.</figcaption>\n",
    "</figure>\n",
    "    \n",
    "\\begin{equation}\n",
    "    \\frac{-I2}{I1} = H.\\frac{s^2 + 5s + 4}{ s^2 + 8s + 12 }   \n",
    "\\end{equation}\n",
    "\n",
    "\\begin{equation}\n",
    "    Z_{21} = 6H  \n",
    "\\end{equation}\n",
    "    \n",
    "\n",
    "1.  Obtener la topología mediante la **síntesis gráfica**, es decir la red sin valores.\n",
    "2.  Calcular el valor de los componentes, es decir la **síntesis analítica**.\n",
    "3.  Verificar la red hallada en b) y averiguar el valor de **H**.\n"
   ]
  },
  {
   "cell_type": "markdown",
   "id": "3e35bfd0",
   "metadata": {},
   "source": [
    "\n",
    "### Resolución analítica\n",
    "\n",
    "En el PDF a continuación se desarrolla la síntesis pedida."
   ]
  },
  {
   "cell_type": "code",
   "execution_count": 2,
   "id": "e0a5d825",
   "metadata": {},
   "outputs": [
    {
     "data": {
      "text/html": [
       "\n",
       "        <iframe\n",
       "            width=\"900\"\n",
       "            height=\"900\"\n",
       "            src=\"./ej1/TS12_ej1.pdf\"\n",
       "            frameborder=\"0\"\n",
       "            allowfullscreen\n",
       "            \n",
       "        ></iframe>\n",
       "        "
      ],
      "text/plain": [
       "<IPython.lib.display.IFrame at 0x7f0f3043a5f0>"
      ]
     },
     "execution_count": 2,
     "metadata": {},
     "output_type": "execute_result"
    }
   ],
   "source": [
    "from IPython.display import IFrame\n",
    "IFrame(\"./ej1/TS12_ej1.pdf\", width = 900, height = 900)"
   ]
  },
  {
   "cell_type": "markdown",
   "id": "f0123b83",
   "metadata": {},
   "source": [
    "\n",
    "### Verificación en Python\n",
    "\n",
    "Se utilizan herramientas de simulación en python para verificar que la red sintetizada cumpla con la transferencia de corrientes pedida."
   ]
  },
  {
   "cell_type": "code",
   "execution_count": 25,
   "id": "796b529a",
   "metadata": {},
   "outputs": [],
   "source": [
    "# ---- Modulos y funciones necesarias ---- #\n",
    "\n",
    "import sympy as sp\n",
    "from pytc2.general import print_latex, a_equal_b_latex_s\n",
    "import pytc2.cuadripolos as tc2\n",
    "\n",
    "\n",
    "# ---------------------------------------- #\n",
    "\n",
    "s = sp.symbols('s', complex=True) # Defino la variable compleja S\n",
    "\n",
    "# ---------------------------------------- #"
   ]
  },
  {
   "cell_type": "code",
   "execution_count": 33,
   "id": "c5e036f4",
   "metadata": {},
   "outputs": [
    {
     "name": "stdout",
     "output_type": "stream",
     "text": [
      "La transferencia de corrientes de la red está dada por:\n"
     ]
    },
    {
     "data": {
      "text/latex": [
       "$\\displaystyle T(S)=\\frac{5 \\left(s^{2} + 5 s + 4\\right)}{6 \\left(s^{2} + 8 s + 12\\right)}$"
      ],
      "text/plain": [
       "<IPython.core.display.Math object>"
      ]
     },
     "metadata": {},
     "output_type": "display_data"
    }
   ],
   "source": [
    "# ------------- Ejercicio 1 -------------- #\n",
    "\n",
    "# # Defino los símbolos necesarios\n",
    "\n",
    "R1 = sp.nsimplify(5)\n",
    "R2 = sp.nsimplify(2)\n",
    "R3 = sp.nsimplify(10)\n",
    "RL = sp.nsimplify(1)\n",
    "C2 = sp.nsimplify(1/8)\n",
    "C3 = sp.nsimplify(1/10)\n",
    "\n",
    "# # Armo la MAI\n",
    "\n",
    "#             ---C2---     ---C3---             #\n",
    "#             -      -     -      -             #\n",
    "# 0------------      -------      ---------  2  #\n",
    "#        -    -      -     -      -     -       #\n",
    "#        -    ---R2---     ---R3---     -       #\n",
    "#        R1                             RL      #\n",
    "#        -                              -       #\n",
    "#        -                              -       #\n",
    "# 1----------------------------------------  1  #\n",
    "\n",
    "Ya = s*C2 + 1/R2 \n",
    "Yb = s*C3 + 1/R3\n",
    "Za = 1/Ya\n",
    "Zb = 1/Yb\n",
    "\n",
    "Ymai = sp.Matrix([\n",
    "        [1/R1 + 1/(Za+Zb), -1/R1, -1/(Za+Zb)],\n",
    "        [-1/R1, 1/R1 + 1/RL, -1/RL],\n",
    "        [-1/(Za+Zb), -1/RL, 1/(Za+Zb) + 1/RL]\n",
    "        \n",
    "    ])\n",
    "\n",
    "Tz = tc2.calc_MAI_ztransf_ij_mn(Ymai, ii=2, jj=1, mm=0, nn=1)\n",
    "\n",
    "# Luego I1 = V2/RL -> Como RL es 1, I1 será de la misma forma que V2\n",
    "\n",
    "Ti = Tz/RL \n",
    "print(\"La transferencia de corrientes de la red está dada por:\")\n",
    "print_latex(a_equal_b_latex_s('T(S)', sp.simplify(sp.expand(Ti))))\n",
    "\n",
    "# ---------------------------------------- #"
   ]
  },
  {
   "cell_type": "markdown",
   "id": "27bbaba2",
   "metadata": {},
   "source": [
    "\n",
    "### Verificación en LTspice\n",
    "\n",
    "Se utiliza LTspice para realizar una simulación circuital de la red obtenida.\n",
    "\n",
    "<figure>\n",
    "<center>\n",
    "<img src=\"ej1/red_TS12_ej1.png\">\n",
    "<figcaption> Fig 1.2: Draft de la Red sintetizada en LTspice.</figcaption>\n",
    "</figure>\n",
    "    \n",
    "<figure>\n",
    "<center>\n",
    "<img src=\"ej1/sim_TS12_ej1.png\">\n",
    "<figcaption> Fig 1.3: Simulación de la transferencia de corriente.</figcaption>\n",
    "</figure>"
   ]
  },
  {
   "cell_type": "markdown",
   "id": "425e697f",
   "metadata": {},
   "source": [
    "Se observa que la transferencia de corriente de la red se comporta según lo impuesto por la consigna."
   ]
  },
  {
   "cell_type": "markdown",
   "id": "10d83add",
   "metadata": {},
   "source": [
    "\n",
    "## Ejercicio 2\n",
    "\n",
    "### Consigna\n",
    "\n",
    "Dada la siguiente **transferencia de impedancia**:\n",
    "\n",
    "<figure>\n",
    "<center>\n",
    "<img src=\"ej2/consigna.png\">\n",
    "<figcaption> Fig 2.1: Sistema a sintetizar.</figcaption>\n",
    "</figure>\n",
    "\n",
    "\\begin{equation}\n",
    "T(s) = \\frac{V_2}{I_1} = \\frac{k.(s^2 + 9)}{ s^3 + 2.s^2 + 2.s + 1 }\n",
    "\\end{equation}\n",
    "    \n",
    "1.  Sintetizar un cuadripolo pasivo sin pérdidas, que cumpla con la transimpedancia indicada, cargado a la salida con una impedancia como se muestra en la figura.\n",
    "2.  Verificar la transimpedancia del circuito obtenido."
   ]
  },
  {
   "cell_type": "markdown",
   "id": "d808b736",
   "metadata": {},
   "source": [
    "\n",
    "### Resolución analítica\n",
    "\n",
    "A continuación se realiza la síntesis no disipativa que cumple con la transimpedancia impuesta."
   ]
  },
  {
   "cell_type": "code",
   "execution_count": null,
   "id": "32e9094a",
   "metadata": {},
   "outputs": [],
   "source": [
    "IFrame(\"./ej2/TS12_ej2.pdf\", width = 900, height = 900)"
   ]
  },
  {
   "cell_type": "markdown",
   "id": "52b95811",
   "metadata": {},
   "source": [
    "\n",
    "### Verificación en Python\n",
    "\n",
    "Se realiza una simulación en python para verificar que la síntesis sea correcta."
   ]
  },
  {
   "cell_type": "code",
   "execution_count": 32,
   "id": "4f301dbf",
   "metadata": {},
   "outputs": [
    {
     "name": "stdout",
     "output_type": "stream",
     "text": [
      "La transimpedancia del circuito está dada por:\n"
     ]
    },
    {
     "data": {
      "text/latex": [
       "$\\displaystyle T(S)=\\frac{s^{2} + 9}{9 \\left(s^{3} + 2 s^{2} + 2 s + 1\\right)}$"
      ],
      "text/plain": [
       "<IPython.core.display.Math object>"
      ]
     },
     "metadata": {},
     "output_type": "display_data"
    }
   ],
   "source": [
    "# ------------- Ejercicio 2 -------------- #\n",
    "\n",
    "RL = sp.nsimplify(1)\n",
    "C1 = sp.nsimplify(27/17)\n",
    "C2 = sp.nsimplify(27/289)\n",
    "C3 = sp.nsimplify(7/17)\n",
    "L2 = sp.nsimplify(289/243)\n",
    "\n",
    "# # Armo la MAI\n",
    "\n",
    "#             ---L2---                     #\n",
    "#             -      -                     #\n",
    "# 0------------      -------------------2  #\n",
    "#        -    -      -       -       -     #\n",
    "#        -    ---C2---       -       -     #\n",
    "#        C1                  C3      RL    #\n",
    "#        -                   -       -     #\n",
    "#        -                   -       -     #\n",
    "# 1-------------------------------------1  #\n",
    "\n",
    "Ymai = sp.Matrix([\n",
    "        [s*C1 + s*C2 + 1/(s*L2), -s*C1, -(s*C2 + 1/(s*L2))],\n",
    "        [-s*C1, s*C1 + s*C3 + 1/RL, -(s*C3 + 1/RL)],\n",
    "        [-(s*C2 + 1/(s*L2)), -(s*C3 + 1/RL), s*C2 + 1/(s*L2) + s*C3 + 1/RL]   \n",
    "    ])\n",
    "\n",
    "Tz = tc2.calc_MAI_ztransf_ij_mn(Ymai, ii=2, jj=1, mm=0, nn=1)\n",
    "\n",
    "print(\"La transimpedancia del circuito está dada por:\")\n",
    "print_latex(a_equal_b_latex_s('T(S)', sp.simplify(sp.expand(Tz))))\n",
    "\n",
    "# ---------------------------------------- #"
   ]
  },
  {
   "cell_type": "markdown",
   "id": "80c1c4f7",
   "metadata": {},
   "source": [
    "\n",
    "### Verificación en LTspice\n",
    "\n",
    "Se realiza la simulación circuital de la red obtenida en la síntesis.\n",
    "<figure>\n",
    "<center>\n",
    "<img src=\"ej2/red_TS12_ej2.png\">\n",
    "<figcaption> Fig 2.2: Draft de la Red sintetizada en LTspice.</figcaption>\n",
    "</figure>\n",
    "    \n",
    "<figure>\n",
    "<center>\n",
    "<img src=\"ej2/sim_TS12_ej2.png\">\n",
    "<figcaption> Fig 2.3: Simulación de la transferencia de corriente.</figcaption>\n",
    "</figure>"
   ]
  },
  {
   "cell_type": "markdown",
   "id": "19fe6fe6",
   "metadata": {},
   "source": [
    "Se observa que la transimpedancia de la red se comporta de la manera esperada."
   ]
  }
 ],
 "metadata": {
  "kernelspec": {
   "display_name": "Python 3 (ipykernel)",
   "language": "python",
   "name": "python3"
  },
  "language_info": {
   "codemirror_mode": {
    "name": "ipython",
    "version": 3
   },
   "file_extension": ".py",
   "mimetype": "text/x-python",
   "name": "python",
   "nbconvert_exporter": "python",
   "pygments_lexer": "ipython3",
   "version": "3.10.9"
  }
 },
 "nbformat": 4,
 "nbformat_minor": 5
}
