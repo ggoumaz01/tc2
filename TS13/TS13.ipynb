{
 "cells": [
  {
   "cell_type": "markdown",
   "id": "d0579ad8",
   "metadata": {},
   "source": [
    "\n",
    "# Trabajo semanal N°13 - Síntesis de redes doblemente cargadas\n",
    "\n",
    "### Autor: Gonzalo Goumaz\n"
   ]
  },
  {
   "cell_type": "markdown",
   "id": "ceacbeb7",
   "metadata": {},
   "source": [
    "\n",
    "## Consigna\n",
    "\n",
    "Diseñe el cuadripolo A para que se comporte como:\n",
    "\n",
    "<ul>\n",
    "    <li> pasa bajos Bessel de 3er. orden\n",
    "    <li> item no disipativo\n",
    "    <li> normalizado en frecuencia e impedancia\n",
    "</ul>   \n",
    "respetando la siguiente topología:\n",
    "\n",
    "<figure>\n",
    "<center>\n",
    "<img src=\"Images/consigna.png\">\n",
    "<figcaption> Fig 1.1: Topología a sintetizar.</figcaption>\n",
    "</figure>\n",
    "    \n",
    "\n",
    "1.  Obtenga la impedancia de entrada al cuadripolo A, cargado con un resistor de 1Ω a la salida.\n",
    "2.  Sintetice A como un cuadripolo escalera.\n",
    "3.  Simule el comportamiento de la red en LTspice graficando S21 y S11 en función de la frecuencia. (Ver explicación de Agustín Alba Chicar 1h 48m)\n",
    "4.  Explique el comportamiento de A a partir de los valores de S11 en las siguientes frecuencias:\n",
    "    <ul>\n",
    "        <li> centro de la banda de paso\n",
    "        <li> frecuencia de corte\n",
    "        <il> transición y centro de la banda de detenida\n",
    "    </ul>\n",
    "5.  Modifique el circuito para que la frecuencia de corte sea 2 π 10⁶ rad/s y la resistencia del generador sea 50Ω.\n"
   ]
  },
  {
   "cell_type": "markdown",
   "id": "ca18407e",
   "metadata": {},
   "source": [
    "\n",
    "## Resolución analítica\n",
    "\n",
    "En el PDF adjunto a continuación se encuentra desarrollada la síntesis."
   ]
  },
  {
   "cell_type": "code",
   "execution_count": 1,
   "id": "faa05888",
   "metadata": {},
   "outputs": [
    {
     "data": {
      "text/html": [
       "\n",
       "        <iframe\n",
       "            width=\"900\"\n",
       "            height=\"900\"\n",
       "            src=\"TS13.pdf\"\n",
       "            frameborder=\"0\"\n",
       "            allowfullscreen\n",
       "            \n",
       "        ></iframe>\n",
       "        "
      ],
      "text/plain": [
       "<IPython.lib.display.IFrame at 0x7fb79c0bf970>"
      ]
     },
     "execution_count": 1,
     "metadata": {},
     "output_type": "execute_result"
    }
   ],
   "source": [
    "from IPython.display import IFrame\n",
    "IFrame(\"TS13.pdf\", width = 900, height = 900)"
   ]
  },
  {
   "cell_type": "markdown",
   "id": "07110fd1",
   "metadata": {},
   "source": [
    "\n",
    "### Cálculos auxiliares en Python\n",
    "\n",
    "A continuación se encuentra el código utilizado para realizar la síntesis anterior."
   ]
  },
  {
   "cell_type": "code",
   "execution_count": 4,
   "id": "04999e5d",
   "metadata": {},
   "outputs": [
    {
     "name": "stdout",
     "output_type": "stream",
     "text": [
      "El parámetro s11(s) a sintetizar resulta\n"
     ]
    },
    {
     "data": {
      "text/latex": [
       "$\\displaystyle s11(s)=\\frac{s \\left(s^{2} + 2 \\sqrt{3} \\cdot \\sqrt[4]{5} s \\cos{\\left(\\frac{\\operatorname{atan}{\\left(2 \\right)}}{2} \\right)} + 3 \\sqrt{5}\\right)}{s^{3} + 6 s^{2} + 15 s + 15}$"
      ],
      "text/plain": [
       "<IPython.core.display.Math object>"
      ]
     },
     "metadata": {},
     "output_type": "display_data"
    }
   ],
   "source": [
    "import sympy as sp\n",
    "from pytc2.general import print_latex, a_equal_b_latex_s\n",
    "from pytc2.remociones import modsq2mod_s\n",
    "import pytc2.cuadripolos as tc2\n",
    "\n",
    "# ---------------------------------------- #\n",
    "\n",
    "s = sp.symbols('s', complex=True) # Defino la variable compleja S\n",
    "\n",
    "# ---------------------------------------- #\n",
    "\n",
    "# ------------- Calculos utilizados para desarrollo -------------- #\n",
    "\n",
    "s21 = sp.Rational('15')/(s**3+ sp.Rational('6')*s**2 + sp.Rational('15')*s + sp.Rational('15'))\n",
    "module_s21_square = s21 * s21.subs(s, -s) \n",
    "\n",
    "module_s11_square = sp.factor(1 - module_s21_square)\n",
    "s11 = modsq2mod_s(module_s11_square)\n",
    "\n",
    "print(\"El parámetro s11(s) a sintetizar resulta\")\n",
    "print_latex(a_equal_b_latex_s('s11(s)', s11))"
   ]
  },
  {
   "cell_type": "markdown",
   "id": "f4742930",
   "metadata": {},
   "source": [
    "\n",
    "## Impedancia de entrada\n",
    "\n",
    "Se utiliza Python para obtener la impedancia de entrada."
   ]
  },
  {
   "cell_type": "code",
   "execution_count": 21,
   "id": "01832e9a",
   "metadata": {},
   "outputs": [
    {
     "name": "stdout",
     "output_type": "stream",
     "text": [
      "La impedancia de entrada de la red está dada por:\n"
     ]
    },
    {
     "data": {
      "text/latex": [
       "$\\displaystyle Z_in(s)=\\frac{66662211 s^{3} + 399427200 s^{2} + 999600000 s + 1000000000}{10000 \\cdot \\left(5313 s^{2} + 27600 s + 50000\\right)}$"
      ],
      "text/plain": [
       "<IPython.core.display.Math object>"
      ]
     },
     "metadata": {},
     "output_type": "display_data"
    }
   ],
   "source": [
    "# ---------Impedancia de entrada---------- #\n",
    "\n",
    "# Armo la MAI\n",
    "#                     2 \n",
    "# 0----Rg----L1---------------L2-----------  3  #\n",
    "#                     -                 -       #\n",
    "#                     -                 -       #\n",
    "#                     C                 RL      #\n",
    "#                     -                 -       #\n",
    "#                     -                 -       #\n",
    "# 1----------------------------------------  1  #\n",
    "\n",
    "Rg = sp.nsimplify(1)\n",
    "RL = sp.nsimplify(1)\n",
    "C  = sp.nsimplify(0.552)\n",
    "L1 = sp.nsimplify(1.2547)\n",
    "L2 = sp.nsimplify(0.1925)\n",
    "\n",
    "\n",
    "\n",
    "Ymai = sp.Matrix([\n",
    "        [1/(Rg + s*L1), 0, -1/(Rg+ s*L1), 0],\n",
    "        [0, s*C + 1/RL, -s*C, -1/RL],\n",
    "        [-1/(Rg + s*L1), -s*C, s*C + 1/(Rg + s*L1) + 1/(s*L2), -1/(s*L2)],\n",
    "        [0, -1/RL, -1/(s*L2), 1/RL + 1/(s*L2)]\n",
    "        \n",
    "    ])\n",
    " \n",
    "Zin = tc2.calc_MAI_impedance_ij(Ymai, ii=0, jj=1)\n",
    "\n",
    "print(\"La impedancia de entrada de la red está dada por:\")\n",
    "print_latex(a_equal_b_latex_s(\"Z_in(s)\", sp.factor(Zin)));\n",
    "\n",
    "# ---------------------------------------- #"
   ]
  },
  {
   "cell_type": "markdown",
   "id": "b6b7c6f2",
   "metadata": {},
   "source": [
    "\n",
    "## Red simulada en LTspice\n",
    "\n",
    "Se realiza una simulación circuital de los parámetros S11 y S21 en LTspice.\n",
    "\n",
    "<figure>\n",
    "<center>\n",
    "<img src=\"Images/red_spice.png\">\n",
    "<figcaption> Fig 2.1: Draft de simulación en LTspice.</figcaption>\n",
    "</figure>\n",
    "    \n",
    "<figure>\n",
    "<center>\n",
    "<img src=\"Images/sim_spice.png\">\n",
    "<figcaption> Fig 2.2: Simulación de $S_{11}$ y $S_{21}$.</figcaption>\n",
    "</figure>\n",
    "    \n",
    "Se observa que hasta la pulsación angular unitaria el retardo de grupo es constante. Lo cual indica que el filtro adhiere a una aproximación de tipo Bessel."
   ]
  },
  {
   "cell_type": "markdown",
   "id": "8f8f80f3",
   "metadata": {},
   "source": [
    "\n",
    "## Análisis de $A$ según $S_{11}$\n",
    "\n",
    "Se tiene que $s_{11}$\n",
    "\n",
    "\\begin{equation}\n",
    "s_{11}(s)=\\frac{s \\left(s^{2} + 2 \\sqrt{3} \\cdot \\sqrt[4]{5} s \\cos{\\left(\\frac{\\operatorname{atan}{\\left(2 \\right)}}{2} \\right)} + 3 \\sqrt{5}\\right)}{s^{3} + 6 s^{2} + 15 s + 15}\n",
    "\\end{equation}\n",
    "\n",
    "Se observa que para $s=0$ se tiene un cero, por lo que no existe reflexión de la onda. Entonces, se puede decir que el cuadripolo permite el paso de frecuencias bajas.\n",
    "<br>\n",
    "En el otro extremo, cuando $s\\rightarrow\\infty$ se tiene que $s_{11}=1$. Entonces, toda la onda se refleja. Se puede afirmar que el cuadripolo no permite el paso de las altas frecuencias.\n",
    "<br>\n",
    "Con este análisis se puede afirmar que el compartamiento del filtro es de tipo pasa bajos."
   ]
  },
  {
   "cell_type": "markdown",
   "id": "c3a8eaf9",
   "metadata": {},
   "source": [
    "\n",
    "## Desnormalización de la red\n",
    "\n",
    "Se desea analizar el filtro para una frecuencia de operación de $f_0 = 1Mhz$ y una $R_g=50\\Omega$\n",
    "\n",
    "<figure>\n",
    "<center>\n",
    "<img src=\"Images/red_spice_2.png\">\n",
    "<figcaption> Fig 3.1: Draft de simulación en LTspice.</figcaption>\n",
    "</figure>\n",
    "    \n",
    "<figure>\n",
    "<center>\n",
    "<img src=\"Images/sim_spice_2.png\">\n",
    "<figcaption> Fig 3.2: Simulación de $S_{11}$ y $S_{21}$.</figcaption>\n",
    "</figure>\n",
    "    "
   ]
  },
  {
   "cell_type": "markdown",
   "id": "3456d560",
   "metadata": {},
   "source": [
    "Se observa que el ancho de banda para el cual se mantiene constante el retardo de grupo coincide con la frecuencia de operación"
   ]
  }
 ],
 "metadata": {
  "kernelspec": {
   "display_name": "Python 3 (ipykernel)",
   "language": "python",
   "name": "python3"
  },
  "language_info": {
   "codemirror_mode": {
    "name": "ipython",
    "version": 3
   },
   "file_extension": ".py",
   "mimetype": "text/x-python",
   "name": "python",
   "nbconvert_exporter": "python",
   "pygments_lexer": "ipython3",
   "version": "3.10.9"
  }
 },
 "nbformat": 4,
 "nbformat_minor": 5
}
