{
 "cells": [
  {
   "cell_type": "markdown",
   "id": "d0579ad8",
   "metadata": {},
   "source": [
    "\n",
    "# Trabajo semanal N°13 - Síntesis de redes doblemente cargadas\n",
    "\n",
    "### Autor: Gonzalo Goumaz\n"
   ]
  },
  {
   "cell_type": "markdown",
   "id": "ceacbeb7",
   "metadata": {},
   "source": [
    "\n",
    "## Consigna\n",
    "\n",
    "Diseñe el cuadripolo A para que se comporte como:\n",
    "\n",
    "<ul>\n",
    "    <li> pasa bajos Bessel de 3er. orden\n",
    "    <li> item no disipativo\n",
    "    <li> normalizado en frecuencia e impedancia\n",
    "</ul>   \n",
    "respetando la siguiente topología:\n",
    "\n",
    "<figure>\n",
    "<center>\n",
    "<img src=\"consigna.png\">\n",
    "<figcaption> Fig 1.1: Topología a sintetizar.</figcaption>\n",
    "</figure>\n",
    "    \n",
    "\n",
    "1.  Obtenga la impedancia de entrada al cuadripolo A, cargado con un resistor de 1Ω a la salida.\n",
    "2.  Sintetice A como un cuadripolo escalera.\n",
    "3.  Simule el comportamiento de la red en LTspice graficando S21 y S11 en función de la frecuencia. (Ver explicación de Agustín Alba Chicar 1h 48m)\n",
    "4.  Explique el comportamiento de A a partir de los valores de S11 en las siguientes frecuencias:\n",
    "    <ul>\n",
    "        <li> centro de la banda de paso\n",
    "        <li> frecuencia de corte\n",
    "        <il> transición y centro de la banda de detenida\n",
    "    </ul>\n",
    "5.  Modifique el circuito para que la frecuencia de corte sea 2 π 10⁶ rad/s y la resistencia del generador sea 50Ω.\n"
   ]
  },
  {
   "cell_type": "markdown",
   "id": "ca18407e",
   "metadata": {},
   "source": [
    "\n",
    "## Resolución analítica\n",
    "\n",
    "En el PDF adjunto a continuación se encuentra desarrollada la síntesis."
   ]
  },
  {
   "cell_type": "code",
   "execution_count": 2,
   "id": "faa05888",
   "metadata": {},
   "outputs": [
    {
     "data": {
      "text/html": [
       "\n",
       "        <iframe\n",
       "            width=\"900\"\n",
       "            height=\"900\"\n",
       "            src=\"TS13.pdf\"\n",
       "            frameborder=\"0\"\n",
       "            allowfullscreen\n",
       "            \n",
       "        ></iframe>\n",
       "        "
      ],
      "text/plain": [
       "<IPython.lib.display.IFrame at 0x7fd798201510>"
      ]
     },
     "execution_count": 2,
     "metadata": {},
     "output_type": "execute_result"
    }
   ],
   "source": [
    "from IPython.display import IFrame\n",
    "IFrame(\"TS13.pdf\", width = 900, height = 900)"
   ]
  },
  {
   "cell_type": "markdown",
   "id": "07110fd1",
   "metadata": {},
   "source": [
    "\n",
    "### Cálculos auxiliares en Python\n",
    "\n",
    "A continuación se encuentra el código utilizado para realizar la síntesis anterior."
   ]
  },
  {
   "cell_type": "code",
   "execution_count": 5,
   "id": "04999e5d",
   "metadata": {},
   "outputs": [
    {
     "name": "stdout",
     "output_type": "stream",
     "text": [
      "El parámetro s11(s) a sintetizar resulta\n"
     ]
    },
    {
     "data": {
      "text/latex": [
       "$\\displaystyle s11(s)=\\frac{s \\left(s^{2} + 2 \\sqrt{3} \\cdot \\sqrt[4]{5} s \\cos{\\left(\\frac{\\operatorname{atan}{\\left(2 \\right)}}{2} \\right)} + 3 \\sqrt{5}\\right)}{s^{3} + 6 s^{2} + 15 s + 15}$"
      ],
      "text/plain": [
       "<IPython.core.display.Math object>"
      ]
     },
     "metadata": {},
     "output_type": "display_data"
    }
   ],
   "source": [
    "import sympy as sp\n",
    "from pytc2.general import print_latex, a_equal_b_latex_s\n",
    "from pytc2.remociones import modsq2mod_s\n",
    "\n",
    "# ---------------------------------------- #\n",
    "\n",
    "s = sp.symbols('s', complex=True) # Defino la variable compleja S\n",
    "\n",
    "# ---------------------------------------- #\n",
    "\n",
    "# ------------- Calculos utilizados para desarrollo -------------- #\n",
    "\n",
    "s21 = sp.Rational('15')/(s**3+ sp.Rational('6')*s**2 + sp.Rational('15')*s + sp.Rational('15'))\n",
    "module_s21_square = s21 * s21.subs(s, -s) \n",
    "\n",
    "module_s11_square = sp.factor(1 - module_s21_square)\n",
    "s11 = modsq2mod_s(module_s11_square)\n",
    "\n",
    "print(\"El parámetro s11(s) a sintetizar resulta\")\n",
    "print_latex(a_equal_b_latex_s('s11(s)', s11))"
   ]
  }
 ],
 "metadata": {
  "kernelspec": {
   "display_name": "Python 3 (ipykernel)",
   "language": "python",
   "name": "python3"
  },
  "language_info": {
   "codemirror_mode": {
    "name": "ipython",
    "version": 3
   },
   "file_extension": ".py",
   "mimetype": "text/x-python",
   "name": "python",
   "nbconvert_exporter": "python",
   "pygments_lexer": "ipython3",
   "version": "3.10.9"
  }
 },
 "nbformat": 4,
 "nbformat_minor": 5
}
