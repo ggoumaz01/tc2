{
 "cells": [
  {
   "cell_type": "markdown",
   "id": "0fff8d93",
   "metadata": {},
   "source": [
    "# Trabajo Semanal N°6\n",
    "### Autor: Gonzalo Goumaz"
   ]
  },
  {
   "cell_type": "markdown",
   "id": "b754a2f4",
   "metadata": {},
   "source": [
    "## Ejercicio 1)\n",
    "Calcular los parámetros Z para el siguiente cuadripolo\n",
    "<figure>\n",
    "<center>\n",
    "<img src=\"images/red1.png\">\n",
    "<figcaption> Fig 1: Red circuital 1</figcaption>\n",
    "</figure>"
   ]
  },
  {
   "cell_type": "markdown",
   "id": "0cf69bb0",
   "metadata": {},
   "source": [
    "## Ejercicio 2\n",
    "Dada la siguiente red circuital\n",
    "<figure>\n",
    "<center>\n",
    "<img src=\"images/red2.png\">\n",
    "<figcaption> Fig x: Red circuital 2</figcaption>\n",
    "</figure>\n",
    "    \n",
    "Se pide:\n",
    "+ Obtener la transferencia de tensiones mediante teoría de cuadripolos.\n",
    "+ Obtener la Matriz de Admitancia Indefinida (MAI) del circuito.\n",
    "+ Obtener la transferencia de tensiones a través de la MAI.\n",
    "+ (Plus) Obtener la impedancia de entrada a través de la MAI."
   ]
  },
  {
   "cell_type": "markdown",
   "id": "de56fc92",
   "metadata": {},
   "source": [
    "### Desarrollo analítico\n",
    "En el siguiente pdf se encuentra el desarrollo de los puntos solicitados."
   ]
  },
  {
   "cell_type": "code",
   "execution_count": 1,
   "id": "b3c380ce",
   "metadata": {},
   "outputs": [
    {
     "data": {
      "text/html": [
       "\n",
       "        <iframe\n",
       "            width=\"900\"\n",
       "            height=\"900\"\n",
       "            src=\"./TS6-ej2.pdf\"\n",
       "            frameborder=\"0\"\n",
       "            allowfullscreen\n",
       "            \n",
       "        ></iframe>\n",
       "        "
      ],
      "text/plain": [
       "<IPython.lib.display.IFrame at 0x7f736870e680>"
      ]
     },
     "execution_count": 1,
     "metadata": {},
     "output_type": "execute_result"
    }
   ],
   "source": [
    "from IPython.display import IFrame\n",
    "IFrame(\"./TS6-ej2.pdf\", width = 900, height = 900)"
   ]
  },
  {
   "cell_type": "markdown",
   "id": "3c1af47b",
   "metadata": {},
   "source": [
    "### Simulación circuital\n",
    "A continuación, se hace uso de LTspice para realizar una simulación circuital con el objeto de corroborar el comportamiento del circuito bajo análisis.\n",
    "En la siguiente figura, puede verse el circuito implementado para la simulación.\n",
    "<figure>\n",
    "<center>\n",
    "<img src=\"images/spice_ej2.png\">\n",
    "<figcaption> Fig x: Red del ejercicio 2 en Spice</figcaption>\n",
    "</figure>"
   ]
  },
  {
   "cell_type": "markdown",
   "id": "4012717b",
   "metadata": {},
   "source": [
    "<figure>\n",
    "<center>\n",
    "<img src=\"images/sim_ej2.png\">\n",
    "<figcaption> Fig x: Respuesta en frecuencia de la transferencia de tensiones.</figcaption>\n",
    "</figure>\n",
    "\n",
    "Se observa que la respuesta frecuencial para la transferencia de tensión se corresponde con la esperada para este filtro pasa bajos."
   ]
  },
  {
   "cell_type": "markdown",
   "id": "af37e566",
   "metadata": {},
   "source": [
    "### Simulación en Python\n",
    "Para verificar los resultados obtenidos, se utilizan herramientas de simulación simbólica en Python."
   ]
  },
  {
   "cell_type": "code",
   "execution_count": 2,
   "id": "c56f5607",
   "metadata": {},
   "outputs": [
    {
     "name": "stdout",
     "output_type": "stream",
     "text": [
      "Funcion Transferencia de tension:\n"
     ]
    },
    {
     "data": {
      "text/latex": [
       "$\\displaystyle T(S)=- \\frac{R}{C_{2} L_{1} L_{3} S^{3} + C_{2} L_{1} R S^{2} + L_{1} S + L_{3} S + R}$"
      ],
      "text/plain": [
       "<IPython.core.display.Math object>"
      ]
     },
     "metadata": {},
     "output_type": "display_data"
    },
    {
     "name": "stdout",
     "output_type": "stream",
     "text": [
      "Si reemplazo por los valores de los componentes, obtengo la Transferencia de tensiones normalizada\n"
     ]
    },
    {
     "data": {
      "text/latex": [
       "$\\displaystyle T(S)=- \\frac{1}{1.0 S^{3} + 2.0 S^{2} + 2.0 S + 1}$"
      ],
      "text/plain": [
       "<IPython.core.display.Math object>"
      ]
     },
     "metadata": {},
     "output_type": "display_data"
    },
    {
     "name": "stdout",
     "output_type": "stream",
     "text": [
      "Impedancia de entrada:\n"
     ]
    },
    {
     "data": {
      "text/latex": [
       "$\\displaystyle Z_{in}(S)=\\frac{C_{2} L_{1} L_{3} S^{3} + C_{2} L_{1} R S^{2} + L_{1} S + L_{3} S + R}{C_{2} L_{3} S^{2} + C_{2} R S + 1}$"
      ],
      "text/plain": [
       "<IPython.core.display.Math object>"
      ]
     },
     "metadata": {},
     "output_type": "display_data"
    }
   ],
   "source": [
    "import sympy as sp\n",
    "import pytc2.cuadripolos as tc2\n",
    "from pytc2.general import print_latex\n",
    "\n",
    "\n",
    "'''           1\n",
    "   0-----SL1-------SL3---------2\n",
    "              -            -\n",
    "            1/SC2          R\n",
    "              -            -\n",
    "   3---------------------------\n",
    "'''\n",
    "\n",
    "# Defino los simbolos necesarios \n",
    "\n",
    "S = sp.symbols('S', complex=True)\n",
    "Z1, Z3 = sp.symbols('L1 L3', complex=True)\n",
    "Y1 = 1/(S*Z1)\n",
    "Y2 = S*sp.symbols('C2', complex=True)\n",
    "Y3 = 1/(S*Z3)\n",
    "R = sp.symbols('R', real=True, positive = True)\n",
    "G = 1/R\n",
    "\n",
    "# Armo la MAI\n",
    "\n",
    "Ymai = sp.Matrix([\n",
    "        [Y1 , -Y1     ,  0  , 0   ],\n",
    "        [-Y1, Y1+Y2+Y3, -Y3 , -Y2 ],\n",
    "        [ 0 ,   -Y3   , Y3+G, -G  ],\n",
    "        [ 0 ,   -Y2   ,  -G , Y2+G]\n",
    "    ])\n",
    "\n",
    "#con_detalles = True\n",
    "con_detalles = False\n",
    "\n",
    "# Calculo la funcion de transferencia a partir de la MAI\n",
    "\n",
    "print(\"Funcion Transferencia de tension:\")\n",
    "tf = tc2.calc_MAI_vtransf_ij_mn(Ymai, 2, 3, 0 ,3, verbose=con_detalles)\n",
    "print_latex('T(S)' + '=' + sp.latex(tf))\n",
    "\n",
    "print(\"Si reemplazo por los valores de los componentes, obtengo la Transferencia de tensiones normalizada\")\n",
    "tf_n = sp.simplify(tf.subs(Z1, (3/2)))\n",
    "tf_n = sp.simplify(tf_n.subs(Z3, (1/2)))\n",
    "tf_n = sp.simplify(tf_n.subs(Y2, S*(4/3)))\n",
    "tf_n = sp.simplify(tf_n.subs(R, 1))\n",
    "\n",
    "print_latex('T(S)' + '=' + sp.latex(tf_n))\n",
    "# Calculo la impedancia de entrada\n",
    "\n",
    "print(\"Impedancia de entrada:\")\n",
    "Zin = tc2.calc_MAI_impedance_ij(Ymai, 0, 3, verbose=con_detalles)\n",
    "print_latex('Z_{in}(S)' +'='+ sp.latex(Zin))\n"
   ]
  },
  {
   "cell_type": "code",
   "execution_count": null,
   "id": "6b112115",
   "metadata": {},
   "outputs": [],
   "source": []
  }
 ],
 "metadata": {
  "kernelspec": {
   "display_name": "Python 3 (ipykernel)",
   "language": "python",
   "name": "python3"
  },
  "language_info": {
   "codemirror_mode": {
    "name": "ipython",
    "version": 3
   },
   "file_extension": ".py",
   "mimetype": "text/x-python",
   "name": "python",
   "nbconvert_exporter": "python",
   "pygments_lexer": "ipython3",
   "version": "3.10.9"
  }
 },
 "nbformat": 4,
 "nbformat_minor": 5
}
