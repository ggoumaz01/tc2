{
 "cells": [
  {
   "cell_type": "markdown",
   "id": "dfbedd33",
   "metadata": {},
   "source": [
    "<figure>\n",
    "<center>\n",
    "<img src=\"Images/logo_UTN.png\">\n",
    "</figure>\n",
    "    \n",
    "# Teoría de los circuitos II: Trabajo Práctico de Laboratorio N°2\n",
    "    \n",
    "### Curso: R4001\n",
    "    \n",
    "### Alumno: Gonzalo Goumaz"
   ]
  },
  {
   "cell_type": "markdown",
   "id": "6632b5ca",
   "metadata": {},
   "source": [
    "\n",
    "## Objetivos \n",
    "\n",
    "<ul>\n",
    "    <li> Consolidar los conceptos de los sistemas muestreados mediante el uso del ADC y DACs.\n",
    "    <li> Simular e implementar un filtro digital con el LPCXpresso1769.\n",
    "    <li> Familiarizarse con el uso de librerías para procesamiento digital de señales.\n",
    "    <li> Medir las partes de la función transferencia $H(Z)$ para frecuencias menores a 10kHz.\n",
    "</ul>   "
   ]
  },
  {
   "cell_type": "markdown",
   "id": "02c0bc6c",
   "metadata": {},
   "source": [
    "\n",
    "## 1.  Consigna\n",
    "\n",
    "Este trabajo consiste en el diseño, análisis, medición y discusión de un filtro digital.\n",
    "Las siguientes plantillas describen las características de los filtros a desarrollar.\n",
    "\n",
    "<figure>\n",
    "<center>\n",
    "<img src=\"Images/plantillas.png\">\n",
    "<figcaption> Fig 1.1: Plantillas de los filtros a desarrollar </figcaption>\n",
    "</figure>\n",
    "\n"
   ]
  },
  {
   "cell_type": "markdown",
   "id": "2a5d8585",
   "metadata": {},
   "source": [
    "Los filtros digitales se implementarán utilizando la placa <a href=https://www.embeddedartists.com/products/lpcxpresso1769/>LPCXpresso1769 </a>, la cual cuenta con un procesador Cortex-M3. Se utiliza CMSIS-DSP, una library de software libre que provee de funciones utiles para el procesamiento de señales en procesadores Cortex-M y Cortex-A.\n",
    "\n",
    "<figure>\n",
    "<center>\n",
    "<img src=\"Images/LPCXpresso1769.png\">\n",
    "<figcaption> Fig 1.2: LPCXpresso1769 </figcaption>\n",
    "</figure>"
   ]
  },
  {
   "cell_type": "markdown",
   "id": "c40630f4",
   "metadata": {},
   "source": [
    "\n",
    "## 2.  Descripción del Hardware\n",
    "\n",
    "Para materializar los filtros digitales desarrollados, se debe armar un sistema como el siguiente:\n",
    "\n",
    "<figure>\n",
    "<center>\n",
    "<img src=\"Images/sistema_filtrado.png\">\n",
    "<figcaption> Fig 2.1: Esquema general del sistema </figcaption>\n",
    "</figure>\n",
    "    \n",
    "Se observa que la señal, antes de ser digitalizada, debe pasar por un filtro pasabajos con el fin de prevenir el alliasing. Una vez digitalizada por el ADC del microcontrolador, la señal será filtrada según el filtro implementado. Luego, la señal de salida entregada por el DAC pasa por un filtro de interpolación para poder obtener correctamente la señal de salida, terminando así, el proceso de filtrado."
   ]
  },
  {
   "cell_type": "markdown",
   "id": "90144aad",
   "metadata": {},
   "source": [
    "\n",
    "## 3.  Diseño de los filtros digitales\n",
    "\n",
    "Para realizar el diseño de los filtros digitales impuestos por la consigna, se utilizará la herrmaienta FDAtool de MATLAB. Para ello, se debe especificar el tipo de filtro a implementar y las restricciones del mismo. Además, se diseño para que el filtro sea del menor orden posible.\n"
   ]
  },
  {
   "cell_type": "markdown",
   "id": "22af5b84",
   "metadata": {},
   "source": [
    "\n",
    "### Filtro A: Pasa Bajos FIR Equiripple\n",
    "\n",
    "<br>\n",
    "<figure>\n",
    "<center>\n",
    "<img src=\"FIR_Equiripple/plantilla_A.png\">\n",
    "<figcaption> Fig 3.1.1: Plantilla Filtro A </figcaption>\n",
    "</figure>\n",
    "<br>\n",
    "    \n",
    "<br>\n",
    "<figure>\n",
    "<center>\n",
    "<img src=\"FIR_Equiripple/FIR_Equiripple_Modulo.png\">\n",
    "<figcaption> Fig 3.1.2: Respuesta de modulo Filtro A </figcaption>\n",
    "</figure>\n",
    "<br>\n",
    "    \n",
    "<br>\n",
    "<figure>\n",
    "<center>\n",
    "<img src=\"FIR_Equiripple/FIR_Equiripple_Fase.png\">\n",
    "<figcaption> Fig 3.1.3: Respuesta de fase Filtro A </figcaption>\n",
    "</figure>\n",
    "<br>\n",
    "    \n",
    "<br>\n",
    "<figure>\n",
    "<center>\n",
    "<img src=\"FIR_Equiripple/FIR_Equiripple_GroupDelay.png\">\n",
    "<figcaption> Fig 3.1.4: Retardo de grupo Filtro A </figcaption>\n",
    "</figure>\n",
    "<br>\n",
    "    \n",
    "<br>\n",
    "<figure>\n",
    "<center>\n",
    "<img src=\"FIR_Equiripple/FIR_Equiripple_PolosCeros.png\">\n",
    "<figcaption> Fig 3.1.5: Diagrama de polos y ceros Filtro A </figcaption>\n",
    "</figure>\n",
    "<br>\n",
    "    \n",
    "<br>\n",
    "<figure>\n",
    "<center>\n",
    "<img src=\"FIR_Equiripple/FIR_Equiripple_coeficientes.png\">\n",
    "<figcaption> Fig 3.1.6: Tabla de coeficientes Filtro A </figcaption>\n",
    "</figure>\n",
    "<br>"
   ]
  },
  {
   "cell_type": "markdown",
   "id": "fba4c3f5",
   "metadata": {},
   "source": [
    "\n",
    "### Filtro B: Elimina Banda FIR Least Squares\n",
    "\n",
    "<br>\n",
    "<figure>\n",
    "<center>\n",
    "<img src=\"FIR_LeastSquares/plantilla_B.png\">\n",
    "<figcaption> Fig 3.2.1: Plantilla Filtro B </figcaption>\n",
    "</figure>\n",
    "<br>\n",
    "    \n",
    "<br>\n",
    "<figure>\n",
    "<center>\n",
    "<img src=\"FIR_LeastSquares/FIR_LS_Modulo.png\">\n",
    "<figcaption> Fig 3.2.2: Respuesta de modulo Filtro B </figcaption>\n",
    "</figure>\n",
    "<br>\n",
    "    \n",
    "<br>\n",
    "<figure>\n",
    "<center>\n",
    "<img src=\"FIR_LeastSquares/FIR_LS_Fase.png\">\n",
    "<figcaption> Fig 3.2.3: Respuesta de fase Filtro B </figcaption>\n",
    "</figure>\n",
    "<br>\n",
    "    \n",
    "<br>\n",
    "<figure>\n",
    "<center>\n",
    "<img src=\"FIR_LeastSquares/FIR_LS_GroupDelay.png\">\n",
    "<figcaption> Fig 3.2.4: Retardo de grupo Filtro B </figcaption>\n",
    "</figure>\n",
    "<br>\n",
    "    \n",
    "<br>\n",
    "<figure>\n",
    "<center>\n",
    "<img src=\"FIR_LeastSquares/FIR_LS_PolosCeros.png\">\n",
    "<figcaption> Fig 3.2.5: Diagrama de polos y ceros Filtro B </figcaption>\n",
    "</figure>\n",
    "<br>\n",
    "    \n",
    "<br>\n",
    "<figure>\n",
    "<center>\n",
    "<img src=\"FIR_LeastSquares/FIR_LS_Coeficientes.png\">\n",
    "<figcaption> Fig 3.2.6: Tabla de coeficientes Filtro B </figcaption>\n",
    "</figure>\n",
    "<br>"
   ]
  },
  {
   "cell_type": "markdown",
   "id": "213813ba",
   "metadata": {},
   "source": [
    "\n",
    "### Filtro C: Pasa Bajos IIR Butterworth\n",
    "\n",
    "<br>\n",
    "<figure>\n",
    "<center>\n",
    "<img src=\"IIR_Butterworth/plantilla_C.png\">\n",
    "<figcaption> Fig 3.3.1: Plantilla Filtro C </figcaption>\n",
    "</figure>\n",
    "<br>\n",
    "    \n",
    "<br>\n",
    "<figure>\n",
    "<center>\n",
    "<img src=\"IIR_Butterworth/IIR_Butter_Modulo.png\">\n",
    "<figcaption> Fig 3.3.2: Respuesta de modulo Filtro C </figcaption>\n",
    "</figure>\n",
    "<br>\n",
    "    \n",
    "<br>\n",
    "<figure>\n",
    "<center>\n",
    "<img src=\"IIR_Butterworth/IIR_Butter_Fase.png\">\n",
    "<figcaption> Fig 3.3.3: Respuesta de fase Filtro C </figcaption>\n",
    "</figure>\n",
    "<br>\n",
    "    \n",
    "<br>\n",
    "<figure>\n",
    "<center>\n",
    "<img src=\"IIR_Butterworth/IIR_Butter_GroupDelay.png\">\n",
    "<figcaption> Fig 3.3.4: Retardo de grupo Filtro C </figcaption>\n",
    "</figure>\n",
    "<br>\n",
    "    \n",
    "<br>\n",
    "<figure>\n",
    "<center>\n",
    "<img src=\"IIR_Butterworth/IIR_Butter_PolosCeros.png\">\n",
    "<figcaption> Fig 3.3.5: Diagrama de polos y ceros Filtro C </figcaption>\n",
    "</figure>\n",
    "<br>\n",
    "    \n",
    "<br>\n",
    "<figure>\n",
    "<center>\n",
    "<img src=\"IIR_Butterworth/IIR_Butter_Coeficientes.png\">\n",
    "<figcaption> Fig 3.3.6: Tabla de coeficientes Filtro C </figcaption>\n",
    "</figure>\n",
    "<br>"
   ]
  },
  {
   "cell_type": "markdown",
   "id": "31448802",
   "metadata": {},
   "source": [
    "\n",
    "## 4.  Workspace\n",
    "\n",
    "Se utilizó el workspace provisto por la cátedra, en el cuál se deben cargar los coeficientes de los 3 filtros implementados dentro de los arrays correspondientes en el archivo *filter.c*, según el formato adecuado. Para los filtros FIR, la carga es tan sencilla como copiar y pegar los coeficientes arrojados por el FDAtool. Sin embargo, para los IIR, se deben cargar en formato separados por SOS.\n",
    "\n",
    "### Diagrama de flujo\n",
    "\n",
    "En el siguiente diagrama de flujo, se puede observar el comportamiento del programa cargado en el LPCXpresso1769.\n",
    "\n",
    "<br>\n",
    "<figure>\n",
    "<center>\n",
    "<img src=\"Images/diagrama_flujo.png\">\n",
    "<figcaption> Fig 4.1: Diagrama de flujo del programo </figcaption>\n",
    "</figure>\n",
    "<br>\n",
    "    \n",
    "Para cambiar el filtro seleccionado, se debe cambiar el valor del define filter, por lo que se debe modificar en el código y bajarlo cada vez que se desea cambiar el filtro.\n",
    "Las lecturas del ADC se realizan por medio de interrupciones y se guardan en un buffer global, de manera que a la hora de aplicar los filtros estén disponibles los valores."
   ]
  },
  {
   "cell_type": "markdown",
   "id": "ef7c705d",
   "metadata": {},
   "source": [
    "\n",
    "## 5.  Diseño de filtros analógicos\n",
    "\n",
    "El filtro utilizado para el anti-alliasing será exactamente igual al filtro utilizado para la interpolación en la salida del DAC.\n",
    "<br>\n",
    "El criterio para su diseño será que su frecuencia de corte debe estar por debajo de $f_s/2 \\approx 22Khz$ pero deberá estar por encima de todas las frecuencias de interés de los filtros digitales a implementar.\n",
    "Con todo esto, se ha decidido que el filtro pasabajos a implementar tenga una frecuencia de corte cercana a los 10Khz y, para implementarlo, se ha optado por una estructura tipo Sallen-Key.\n",
    "<br>\n",
    "En el siguiente documento, se encuentra el desarrollo de la red que satisface las necesidades expuestas."
   ]
  },
  {
   "cell_type": "code",
   "execution_count": 2,
   "id": "28f578fb",
   "metadata": {},
   "outputs": [
    {
     "data": {
      "text/html": [
       "\n",
       "        <iframe\n",
       "            width=\"900\"\n",
       "            height=\"900\"\n",
       "            src=\"./Filtros_Analogicos.pdf\"\n",
       "            frameborder=\"0\"\n",
       "            allowfullscreen\n",
       "            \n",
       "        ></iframe>\n",
       "        "
      ],
      "text/plain": [
       "<IPython.lib.display.IFrame at 0x7f45fcddea70>"
      ]
     },
     "execution_count": 2,
     "metadata": {},
     "output_type": "execute_result"
    }
   ],
   "source": [
    "from IPython.display import IFrame\n",
    "IFrame(\"./Filtros_Analogicos.pdf\", width = 900, height = 900)"
   ]
  },
  {
   "cell_type": "markdown",
   "id": "501c72d2",
   "metadata": {},
   "source": [
    "\n",
    "### Simulación del filtro desarrollado\n",
    "\n",
    "Para verificar el comportamiento del filtro desarrollado, se realiza una simulación circuital utilizando LTspice\n",
    "<br>\n",
    "<br>\n",
    "\n",
    "<figure>\n",
    "<center>\n",
    "<img src=\"Images/SallenKey_BW_Modulo.png\">\n",
    "<figcaption> Fig 5.1: Simulación del filtro analógico </figcaption>\n",
    "</figure>\n",
    "<br>\n",
    "Se observa que el filtro implementado satisface los requisitos para esta aplicación."
   ]
  },
  {
   "cell_type": "markdown",
   "id": "38e6e41f",
   "metadata": {},
   "source": [
    "\n",
    "## 6.  Diagrama de conexiones\n",
    "\n",
    "En la siguiente imágen se detallan los pines del LPCXpresso1769 a utilizar.\n",
    "\n",
    "<figure>\n",
    "<center>\n",
    "<img src=\"Images/diagrama_conexiones.png\">\n",
    "<figcaption> Fig 6.1: Diagrama de conexiones </figcaption>\n",
    "</figure>"
   ]
  },
  {
   "cell_type": "markdown",
   "id": "db610d29",
   "metadata": {},
   "source": [
    "La salida del filtro de Antialiasing se conectará al pin de entrada del ADC, y, la salida del DAC se conectará a la entrada del filtro de interpolación."
   ]
  },
  {
   "cell_type": "markdown",
   "id": "a1e38bb5",
   "metadata": {},
   "source": [
    "\n",
    "## 7.  Ensayo en laboratorio \n",
    "\n",
    "El día 12/10/2023 se realizó la práctica en el laboratorio con el objetivo de analizar los filtros y reconstruir la respuesta de módulo de los mismos.\n",
    "<br>\n",
    "El primer paso consiste en caracterizar los filtros de antialiasing y de interpolado, para lo cual se debe cargar el filtro talkthrough en el LPCXpresso1769. Este debe ser el primer paso dado que, a la hora de analizar los filtros digitales, la respuesta obtenida estará afectada también por los filtros analógicos.\n",
    "<br>\n",
    "Para ensayar los filtros, se excitó al sistema con una señal senoidal, para lo cual se utilizó un generador de seañles. Dicho señal estaba montada sobre un nivel de continua dado que el ADC utilizado requiere de valores de tensión positivos para realizar la conversión.\n",
    "<br>\n",
    "Luego, con ayuda de un osciloscopio, se midió la respuesta de módulo en distintos puntos frecuenciales de interés de acuerdo con el filtro bajo análisis."
   ]
  },
  {
   "cell_type": "markdown",
   "id": "d08489fe",
   "metadata": {},
   "source": [
    "A continuación, pueden observarse los resultados de las mediciones efectuadas. Para todos los filtros digitales desarrollados, se ha desagregado el efecto de los filtros analógicos, por lo que la respuesta de módulo reconstruida se corresponde solamente con el filtro digital en sí."
   ]
  },
  {
   "cell_type": "markdown",
   "id": "edd9d0f5",
   "metadata": {},
   "source": [
    "\n",
    "### Filtro Talkthrough\n",
    "\n",
    "Para este análisis, la respuesta de módulo obtenida será debida a los filtros analógicos de antialiasing y de interpolación.\n",
    "\n",
    "<br>\n",
    "\n",
    "<br>\n",
    "<figure>\n",
    "<center>\n",
    "<img src=\"Mediciones/Tabla_Mediciones_Talkthrough.png\">\n",
    "<figcaption> Fig 7.1.1: Tabla de mediciones Talkthrough </figcaption>\n",
    "</figure>\n",
    "<br>\n",
    "    \n",
    "<br>\n",
    "<figure>\n",
    "<center>\n",
    "<img src=\"Mediciones/Respuesta_Talkthrough.png\">\n",
    "<figcaption> Fig 7.1.2: Respuesta de módulo Talkthrough </figcaption>\n",
    "</figure>\n",
    "<br>\n",
    "    \n",
    "<br>\n",
    "<figure>\n",
    "<center>\n",
    "<img src=\"Mediciones/Audio_Talkthrough.jpeg\">\n",
    "<figcaption> Fig 7.1.3: Respuesta de módulo Talkthrough con analizador de audio </figcaption>\n",
    "</figure>\n",
    "<br>"
   ]
  },
  {
   "cell_type": "markdown",
   "id": "61c2030a",
   "metadata": {},
   "source": [
    "Se observa en la construcción realizada por el analizador de audio que, para una frecuencia de 10K se tiene una atenuación de 5,6dB. por lo que la frecuencia de corte se encuentra un poco por encima de este valor.\n",
    "Sin embargo en las mediciones realizadas con el osciloscopio, se observa que los -6dB se encuentran un poco por debajo de este valor.\n",
    "<br>\n",
    "Se concluye entonces que los filtros analógicos se comportan según lo esperado. "
   ]
  },
  {
   "cell_type": "markdown",
   "id": "3afc24f0",
   "metadata": {},
   "source": [
    "\n",
    "### Filtro FIR Equiripple\n",
    "\n",
    "<br>\n",
    "\n",
    "<br>\n",
    "<figure>\n",
    "<center>\n",
    "<img src=\"Mediciones/Tabla_Mediciones_FIR_Equiripple.png\">\n",
    "<figcaption> Fig 7.2.1: Tabla de mediciones FIR Equiripple </figcaption>\n",
    "</figure>\n",
    "<br>\n",
    "    \n",
    "<br>\n",
    "<figure>\n",
    "<center>\n",
    "<img src=\"Mediciones/Respuesta_FIR_Equiripple.png\">\n",
    "<figcaption> Fig 7.2.2: Respuesta de módulo FIR Equiripple </figcaption>\n",
    "</figure>\n",
    "<br>\n",
    "\n",
    "<br>\n",
    "<figure>\n",
    "<center>\n",
    "<img src=\"Mediciones/Audio_FIR_Equiripple.jpeg\">\n",
    "<figcaption> Fig 7.2.3: Respuesta de módulo FIR Equiripple con analizador de audio </figcaption>\n",
    "</figure>\n",
    "<br>"
   ]
  },
  {
   "cell_type": "markdown",
   "id": "2bfd9ec0",
   "metadata": {},
   "source": [
    "Se observa que no se puede cumplir con los 20dB de atenuación para la frecuencia de 2Khz.\n",
    "Algo para destacar, es que la respuesta obtenida con el analizador de audio no supera la atenuación de 15dB como sí se logra en las mediciones realizadas con el osciloscopio. El motivo de esto puede ser el ruido que se observa a lo largo de toda la respuesta, ocasionado muy probablemente por un problema de contactos en el protoboard."
   ]
  },
  {
   "cell_type": "markdown",
   "id": "1da87cb2",
   "metadata": {},
   "source": [
    "\n",
    "### Filtro FIR Least Squares\n",
    "\n",
    "<br>\n",
    "\n",
    "<br>\n",
    "<figure>\n",
    "<center>\n",
    "<img src=\"Mediciones/Tabla_Mediciones_FIR_LeastSquares.png\">\n",
    "<figcaption> Fig 7.3.1: Tabla de mediciones FIR Least Squares </figcaption>\n",
    "</figure>\n",
    "<br>\n",
    "    \n",
    "<br>\n",
    "<figure>\n",
    "<center>\n",
    "<img src=\"Mediciones/Respuesta_FIR_LeastSquares.png\">\n",
    "<figcaption> Fig 7.3.2: Respuesta de módulo FIR Least Squares </figcaption>\n",
    "</figure>\n",
    "<br>\n",
    "\n",
    "<br>\n",
    "<figure>\n",
    "<center>\n",
    "<img src=\"Mediciones/Audio_FIR_LeastSquares.jpeg\">\n",
    "<figcaption> Fig 7.3.3: Respuesta de módulo FIR Least Squares con analizador de audio </figcaption>\n",
    "</figure>\n",
    "<br>"
   ]
  },
  {
   "cell_type": "markdown",
   "id": "aced71b7",
   "metadata": {},
   "source": [
    "Para este filtro, se observa que la respuesta de módulo construida a partir de las mediciones con el osciloscopio satisfacen los requisitos impuestos por la plantilla. Sin embargo, nuevamente se observa un problema de ruido para la respuesta con el analizador de audio."
   ]
  },
  {
   "cell_type": "markdown",
   "id": "62b93b87",
   "metadata": {},
   "source": [
    "\n",
    "### Filtro IIR Butterworth\n",
    "\n",
    "<br>\n",
    "\n",
    "<br>\n",
    "<figure>\n",
    "<center>\n",
    "<img src=\"Mediciones/Tabla_Mediciones_IIR_Butterworth.png\">\n",
    "<figcaption> Fig 7.4.1: Tabla de mediciones IIR Butterworth </figcaption>\n",
    "</figure>\n",
    "<br>\n",
    "    \n",
    "<br>\n",
    "<figure>\n",
    "<center>\n",
    "<img src=\"Mediciones/Respuesta_IIR_Butterworth.png\">\n",
    "<figcaption> Fig 7.4.2: Respuesta de módulo IIR Butterworth </figcaption>\n",
    "</figure>\n",
    "<br>\n",
    "\n",
    "<br>\n",
    "<figure>\n",
    "<center>\n",
    "<img src=\"Mediciones/Audio_IIR_Butterworth.jpeg\">\n",
    "<figcaption> Fig 7.4.3: Respuesta de módulo IIR_Butterworth con analizador de audio </figcaption>\n",
    "</figure>\n",
    "<br>"
   ]
  },
  {
   "cell_type": "markdown",
   "id": "f1119211",
   "metadata": {},
   "source": [
    "Para el filtro IIR, no se llega a cumplir con los 20dB de atenuación para la frecuencia de stop de 3kHz. Además, se observa que persiste el problema de ruido con el analizador de audio."
   ]
  },
  {
   "cell_type": "markdown",
   "id": "6e440c8b",
   "metadata": {},
   "source": [
    "\n",
    "## 8.  Conclusiones\n",
    "\n",
    "A partir de los resultados obtenidos, se determina que, a pesar de que en el momento de diseño se cumple con los requisitos de plantilla, a la hora de la materialización del filtro no se consigue cumplir con los mismos.\n",
    "<br>\n",
    "Para solucionar este problema, se propone diseñar el filtro digital con unos requisitos más exigentes, teniendo en cuenta que la implementación real, el valor de la atenuación en las zonas de interés será menor que el diseñado originalmente.\n",
    "<br>\n",
    "Otra observación a destacar es que los filtros analógicos deben situarse en una decada despúes que la mayor frecuencia de interés, para que de esta manera no afecte la respuesta de los filtros digitales. Esto conlleva un aumento de la frecuencia de sampling. Lo ideal es que la frecuencia de corte (de los filtros analógicos) esté lo más cerca posible de la frecuencia de Nyquist, pero teniendo cuidado de que su atenuación sea la adecuada para evitar el aliasing, por lo que se sugiere usar filtros de orden mayor a dos.\n",
    "<br>\n",
    "Este trabajo expone algunas de las dificultades presentes a la hora de implementar un filtro digital en una plataforma de hardware como el LPCXpresso1769. Son muchas las consideraciones pertinentes para que el filtro desarrollado pueda cumplir con la aplicación deseada."
   ]
  }
 ],
 "metadata": {
  "kernelspec": {
   "display_name": "Python 3 (ipykernel)",
   "language": "python",
   "name": "python3"
  },
  "language_info": {
   "codemirror_mode": {
    "name": "ipython",
    "version": 3
   },
   "file_extension": ".py",
   "mimetype": "text/x-python",
   "name": "python",
   "nbconvert_exporter": "python",
   "pygments_lexer": "ipython3",
   "version": "3.10.9"
  }
 },
 "nbformat": 4,
 "nbformat_minor": 5
}
